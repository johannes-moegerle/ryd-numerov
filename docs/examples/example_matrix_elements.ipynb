{
 "cells": [
  {
   "cell_type": "markdown",
   "metadata": {},
   "source": [
    "# Simple example of calculating matrix elements"
   ]
  },
  {
   "cell_type": "code",
   "execution_count": 1,
   "metadata": {},
   "outputs": [],
   "source": [
    "import logging\n",
    "\n",
    "from numerov.matrix_elements import radial_matrix_element\n",
    "from numerov.rydberg import RydbergState\n",
    "\n",
    "logging.basicConfig(level=logging.INFO, format=\"%(levelname)s %(filename)s: %(message)s\")\n",
    "logging.getLogger(\"numerov\").setLevel(logging.DEBUG)"
   ]
  },
  {
   "cell_type": "code",
   "execution_count": 2,
   "metadata": {},
   "outputs": [
    {
     "name": "stderr",
     "output_type": "stream",
     "text": [
      "DEBUG database.py: No model potential parameters found for Rb with L=29, trying largest L\n",
      "DEBUG database.py: No Rydberg-Ritz parameters found for Rb with L=29 and J=29, trying largest L and J\n",
      "DEBUG database.py: No model potential parameters found for Rb with L=30, trying largest L\n",
      "DEBUG database.py: No Rydberg-Ritz parameters found for Rb with L=30 and J=29, trying largest L and J\n"
     ]
    }
   ],
   "source": [
    "n = 30\n",
    "l = n - 1\n",
    "j = l + 0.5\n",
    "atom1 = RydbergState(\"Rb\", n=n, l=l, j=j, dz=0.001)\n",
    "atom2 = RydbergState(\"Rb\", n=n + 3, l=l + 1, j=j, dz=atom1.dz)"
   ]
  },
  {
   "cell_type": "code",
   "execution_count": 3,
   "metadata": {},
   "outputs": [],
   "source": [
    "atom1.integrate()\n",
    "atom2.integrate()"
   ]
  },
  {
   "cell_type": "code",
   "execution_count": 4,
   "metadata": {},
   "outputs": [
    {
     "name": "stdout",
     "output_type": "stream",
     "text": [
      "275.10551627849287\n"
     ]
    }
   ],
   "source": [
    "m = radial_matrix_element(atom1, atom2, 0)\n",
    "print(m)"
   ]
  }
 ],
 "metadata": {
  "kernelspec": {
   "display_name": ".venv",
   "language": "python",
   "name": "python3"
  },
  "language_info": {
   "codemirror_mode": {
    "name": "ipython",
    "version": 3
   },
   "file_extension": ".py",
   "mimetype": "text/x-python",
   "name": "python",
   "nbconvert_exporter": "python",
   "pygments_lexer": "ipython3",
   "version": "3.11.2"
  }
 },
 "nbformat": 4,
 "nbformat_minor": 2
}
