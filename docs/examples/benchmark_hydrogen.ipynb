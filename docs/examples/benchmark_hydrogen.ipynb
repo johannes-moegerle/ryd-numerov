{
 "cells": [
  {
   "cell_type": "markdown",
   "metadata": {},
   "source": [
    "# Benchmark of hydrogen wavefunction integration"
   ]
  },
  {
   "cell_type": "code",
   "execution_count": 1,
   "metadata": {},
   "outputs": [],
   "source": [
    "import timeit\n",
    "from typing import Literal\n",
    "\n",
    "import numpy as np\n",
    "\n",
    "from numerov.integrate import integrate_hydrogen\n",
    "\n",
    "# Test cases from pytest parametrize\n",
    "test_cases: list[tuple[int, int, int, Literal[\"forward\", \"backward\"], bool]] = [\n",
    "    (1, 0, 1, \"backward\", False),\n",
    "    (1, 0, 1, \"backward\", True),\n",
    "]"
   ]
  },
  {
   "cell_type": "code",
   "execution_count": 2,
   "metadata": {},
   "outputs": [],
   "source": [
    "def run_benchmark(number=10):\n",
    "    \"\"\"Run benchmark for different quantum states.\n",
    "\n",
    "    Args:\n",
    "        number: Number of times to run each test for averaging\n",
    "    \"\"\"\n",
    "    # Fixed parameters from test file\n",
    "    dx = 1e-3\n",
    "    xmin = dx\n",
    "    xmax = 80\n",
    "    epsilon_u = 1e-10\n",
    "\n",
    "    # run the integration once to compile the numba function\n",
    "    n, l, Z, direction, use_njit = test_cases[0]\n",
    "    energy = -(Z**2) / (n**2)\n",
    "    integrate_hydrogen(energy, Z, n, l, dx, xmin, xmax, direction, epsilon_u, use_njit=True)\n",
    "\n",
    "    results = []\n",
    "\n",
    "    for n, l, Z, direction, use_njit in test_cases:\n",
    "        energy = -(Z**2) / (n**2)\n",
    "\n",
    "        # Setup the test function\n",
    "        setup = \"from numerov.integrate import integrate_hydrogen\"\n",
    "        stmt = (\n",
    "            f\"integrate_hydrogen({energy}, {Z}, {n}, {l}, {dx}, {xmin}, {xmax}, '{direction}', {epsilon_u}, {use_njit})\"\n",
    "        )\n",
    "\n",
    "        # Time the integration multiple times and take average/std\n",
    "        times = timeit.repeat(stmt=stmt, setup=setup, number=1, repeat=number)\n",
    "        avg_time = np.mean(times)\n",
    "        std_time = np.std(times)\n",
    "\n",
    "        results.append(\n",
    "            {\"n\": n, \"l\": l, \"Z\": Z, \"direction\": direction, \"use_njit\": use_njit, \"time\": avg_time, \"std\": std_time}\n",
    "        )\n",
    "\n",
    "    return results"
   ]
  },
  {
   "cell_type": "code",
   "execution_count": 3,
   "metadata": {},
   "outputs": [
    {
     "name": "stdout",
     "output_type": "stream",
     "text": [
      "Running benchmarks...\n"
     ]
    }
   ],
   "source": [
    "# Run benchmark and print results\n",
    "print(\"Running benchmarks...\")\n",
    "results = run_benchmark(number=10)"
   ]
  },
  {
   "cell_type": "code",
   "execution_count": 4,
   "metadata": {},
   "outputs": [
    {
     "name": "stdout",
     "output_type": "stream",
     "text": [
      "\n",
      "Benchmark Results:\n",
      "----------------------------------------------------------------------\n",
      "  n   l   Z  direction   use_njit  Time (ms)   Std (ms)\n",
      "----------------------------------------------------------------------\n",
      "  1   0   1   backward      False      89.51       5.98\n",
      "  1   0   1   backward       True       0.85       0.03\n"
     ]
    }
   ],
   "source": [
    "print(\"\\nBenchmark Results:\")\n",
    "print(\"-\" * 70)\n",
    "print(f\"{'n':>3} {'l':>3} {'Z':>3} {'direction':>10} {'use_njit':>10} {'Time (ms)':>10} {'Std (ms)':>10}\")\n",
    "print(\"-\" * 70)\n",
    "\n",
    "for r in results:\n",
    "    print(\n",
    "        f\"{r['n']:3d} {r['l']:3d} {r['Z']:3d} {r['direction']:>10} {str(r['use_njit']):>10} {r['time'] * 1000:10.2f} \"\n",
    "        f\"{r['std'] * 1000:10.2f}\"\n",
    "    )"
   ]
  }
 ],
 "metadata": {
  "kernelspec": {
   "display_name": ".venv",
   "language": "python",
   "name": "python3"
  },
  "language_info": {
   "codemirror_mode": {
    "name": "ipython",
    "version": 3
   },
   "file_extension": ".py",
   "mimetype": "text/x-python",
   "name": "python",
   "nbconvert_exporter": "python",
   "pygments_lexer": "ipython3",
   "version": "3.11.2"
  }
 },
 "nbformat": 4,
 "nbformat_minor": 2
}
