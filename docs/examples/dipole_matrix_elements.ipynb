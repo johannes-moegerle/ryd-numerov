{
 "cells": [
  {
   "cell_type": "markdown",
   "metadata": {},
   "source": [
    "# Calculate dipole matrix elements"
   ]
  },
  {
   "cell_type": "code",
   "execution_count": 1,
   "metadata": {},
   "outputs": [],
   "source": [
    "import logging\n",
    "\n",
    "import numpy as np\n",
    "\n",
    "from numerov.angular import calc_angular_matrix_element\n",
    "from numerov.radial import calc_radial_matrix_element\n",
    "from numerov.rydberg import RydbergState\n",
    "from numerov.units import BaseQuantities, ureg\n",
    "\n",
    "logging.basicConfig(level=logging.INFO, format=\"%(levelname)s %(filename)s: %(message)s\")\n",
    "logging.getLogger(\"numerov\").setLevel(logging.WARNING)"
   ]
  },
  {
   "cell_type": "code",
   "execution_count": 2,
   "metadata": {},
   "outputs": [
    {
     "name": "stdout",
     "output_type": "stream",
     "text": [
      "[60, 2, 1.5, 0.5]\n",
      "[60, 3, 2.5, 0.5]\n"
     ]
    }
   ],
   "source": [
    "operator = \"p\"\n",
    "k_radial, k_angular = 1, 1\n",
    "\n",
    "n = 60\n",
    "l = 2\n",
    "j = l - 0.5\n",
    "m = j - 1\n",
    "qn_i = [n, l, j, m]\n",
    "qn_f = [n, l + 1, j + 1, m]\n",
    "\n",
    "q = qn_f[-1] - qn_i[-1]\n",
    "\n",
    "print(qn_i)\n",
    "print(qn_f)"
   ]
  },
  {
   "cell_type": "code",
   "execution_count": 3,
   "metadata": {},
   "outputs": [
    {
     "name": "stdout",
     "output_type": "stream",
     "text": [
      "Numerov radial matrix element: 137.78307575236317 bohr\n",
      "Numerov angular matrix element: 0.4898979485566356\n",
      "Numerov dipole matrix element: 67.49964615690624 bohr * elementary_charge\n"
     ]
    }
   ],
   "source": [
    "state_i = RydbergState(\"Rb\", *qn_i)\n",
    "state_f = RydbergState(\"Rb\", *qn_f)\n",
    "\n",
    "radial = calc_radial_matrix_element(state_i, state_f, k_radial)\n",
    "radial *= BaseQuantities[\"RADIAL_MATRIX_ELEMENT\"] ** k_radial\n",
    "angular = calc_angular_matrix_element(state_i, state_f, \"p\", k_angular, q)\n",
    "dipole = radial * angular * ureg.Quantity(1, \"e\")\n",
    "\n",
    "print(f\"Numerov radial matrix element: {radial}\")\n",
    "print(f\"Numerov angular matrix element: {angular}\")\n",
    "print(f\"Numerov dipole matrix element: {dipole}\")"
   ]
  },
  {
   "cell_type": "code",
   "execution_count": 4,
   "metadata": {},
   "outputs": [
    {
     "name": "stdout",
     "output_type": "stream",
     "text": [
      "Pairinteraction Numerov radial: 137.7952691138138 bohr\n",
      "Pairinteraction Numerov dipole: 67.50562268207688 bohr * elementary_charge\n"
     ]
    }
   ],
   "source": [
    "if int(np.__version__.split(\".\")[0]) < 2:\n",
    "    import os\n",
    "\n",
    "    from pairinteraction import pireal as pi\n",
    "\n",
    "    os.makedirs(\"./.pairinteraction_cache/\", exist_ok=True)\n",
    "    cache = pi.MatrixElementCache(\"./.pairinteraction_cache/\")\n",
    "    cache.setMethod(pi.NUMEROV)\n",
    "\n",
    "    pi_state_i = pi.StateOne(\"Rb\", *qn_i)\n",
    "    pi_state_f = pi.StateOne(\"Rb\", *qn_f)\n",
    "\n",
    "    radial_pi = cache.getRadial(pi_state_f, pi_state_i, k_radial)\n",
    "    radial_pi *= ureg.Quantity(1, \"micrometer\").to_base_units()\n",
    "    print(f\"Pairinteraction Numerov radial: {radial_pi}\")\n",
    "\n",
    "    dipole_pi = cache.getElectricMultipole(pi_state_i, pi_state_f, k_radial, k_angular)\n",
    "    pi_unit_to_au = (ureg.Quantity(1, \"cm/V\") * ureg.Quantity(1, \"GHz\").to(\"J\", \"spectroscopy\")).to(\"e * a_0\")\n",
    "    dipole_pi = dipole_pi * pi_unit_to_au\n",
    "    print(f\"Pairinteraction Numerov dipole: {dipole_pi}\")\n",
    "\n",
    "else:\n",
    "    print(f\"pairinteraction not available with numpy >= 2.0, but numpy {np.__version__} is installed.\")"
   ]
  },
  {
   "cell_type": "code",
   "execution_count": 5,
   "metadata": {},
   "outputs": [
    {
     "name": "stdout",
     "output_type": "stream",
     "text": [
      "Radial: Pairinteraction radial / Numerov radial 1.000088496801106 dimensionless\n",
      "Dipole: Pairinteraction dipole / Numerov dipole 1.0000885415777847 dimensionless\n"
     ]
    }
   ],
   "source": [
    "print(f\"Radial: Pairinteraction radial / Numerov radial {radial_pi / radial}\")\n",
    "print(f\"Dipole: Pairinteraction dipole / Numerov dipole {dipole_pi / dipole}\")"
   ]
  }
 ],
 "metadata": {
  "kernelspec": {
   "display_name": ".venv",
   "language": "python",
   "name": "python3"
  },
  "language_info": {
   "codemirror_mode": {
    "name": "ipython",
    "version": 3
   },
   "file_extension": ".py",
   "mimetype": "text/x-python",
   "name": "python",
   "nbconvert_exporter": "python",
   "pygments_lexer": "ipython3",
   "version": "3.11.2"
  }
 },
 "nbformat": 4,
 "nbformat_minor": 2
}
