{
 "cells": [
  {
   "cell_type": "markdown",
   "metadata": {},
   "source": [
    "# Testing latexify"
   ]
  },
  {
   "cell_type": "code",
   "execution_count": 1,
   "metadata": {},
   "outputs": [],
   "source": [
    "import logging\n",
    "\n",
    "import latexify\n",
    "\n",
    "from numerov.angular.angular_matrix_element import (\n",
    "    calc_angular_matrix_element,\n",
    "    calc_reduced_j_matrix_element,\n",
    "    calc_reduced_momentum_matrix_element,\n",
    "    calc_reduced_multipole_matrix_element,\n",
    ")\n",
    "\n",
    "logging.basicConfig(level=logging.INFO, format=\"%(levelname)s %(filename)s: %(message)s\")\n",
    "logging.getLogger(\"numerov\").setLevel(logging.DEBUG)"
   ]
  },
  {
   "cell_type": "code",
   "execution_count": 2,
   "metadata": {},
   "outputs": [
    {
     "name": "stdout",
     "output_type": "stream",
     "text": [
      "Angular Matrix Element:\n"
     ]
    },
    {
     "data": {
      "text/latex": [
       "$\\displaystyle \\begin{array}{l} \\mathrm{prefactor} = \\mathrm{minus\\_one\\_pow} \\mathopen{}\\left( \\mathrm{state\\_i}.j - \\mathrm{kappa} + \\mathrm{state\\_f}.m \\mathclose{}\\right) \\\\ \\mathrm{reduced\\_matrix\\_element} = \\mathrm{calc\\_reduced\\_j\\_matrix\\_element} \\mathopen{}\\left( \\mathrm{state\\_i}, \\mathrm{state\\_f}, \\mathrm{operator}, \\mathrm{kappa} \\mathclose{}\\right) \\\\ \\mathrm{wigner\\_3j} = \\mathrm{calc\\_wigner\\_3j} \\mathopen{}\\left( \\mathrm{state\\_i}.j, \\mathrm{kappa}, \\mathrm{state\\_f}.j, \\mathrm{state\\_i}.m, q, -\\mathrm{state\\_f}.m \\mathclose{}\\right) \\\\ \\mathrm{calc\\_angular\\_matrix\\_element}(\\mathrm{state\\_i}, \\mathrm{state\\_f}, \\mathrm{operator}, \\mathrm{kappa}, q) = \\mathrm{prefactor} \\cdot \\mathrm{reduced\\_matrix\\_element} \\cdot \\mathrm{wigner\\_3j} \\end{array}$"
      ],
      "text/plain": [
       "<IPython.core.display.Math object>"
      ]
     },
     "metadata": {},
     "output_type": "display_data"
    },
    {
     "ename": "LatexifyNotSupportedError",
     "evalue": "Codegen supports only Assign nodes in multiline functions, but got: If",
     "output_type": "error",
     "traceback": [
      "\u001b[0;31m---------------------------------------------------------------------------\u001b[0m",
      "\u001b[0;31mLatexifyNotSupportedError\u001b[0m                 Traceback (most recent call last)",
      "Cell \u001b[0;32mIn[2], line 8\u001b[0m\n\u001b[1;32m      5\u001b[0m \u001b[38;5;28mprint\u001b[39m(\u001b[38;5;124m\"\u001b[39m\u001b[38;5;124mAngular Matrix Element:\u001b[39m\u001b[38;5;124m\"\u001b[39m)\n\u001b[1;32m      6\u001b[0m display(Math(latexify\u001b[38;5;241m.\u001b[39mget_latex(calc_angular_matrix_element)))\n\u001b[0;32m----> 8\u001b[0m \u001b[43mlatexify\u001b[49m\u001b[38;5;241;43m.\u001b[39;49m\u001b[43mget_latex\u001b[49m\u001b[43m(\u001b[49m\u001b[43mcalc_reduced_j_matrix_element\u001b[49m\u001b[43m)\u001b[49m\n\u001b[1;32m      9\u001b[0m \u001b[38;5;28mprint\u001b[39m(\u001b[38;5;124m\"\u001b[39m\u001b[38;5;130;01m\\n\u001b[39;00m\u001b[38;5;124mReduced J Matrix Element:\u001b[39m\u001b[38;5;124m\"\u001b[39m)\n\u001b[1;32m     10\u001b[0m display(Math(latexify\u001b[38;5;241m.\u001b[39mget_latex(calc_reduced_j_matrix_element)))\n",
      "File \u001b[0;32m~/Desktop/PairInteraction/numerov/.venv/lib/python3.11/site-packages/latexify/generate_latex.py:75\u001b[0m, in \u001b[0;36mget_latex\u001b[0;34m(fn, style, config, **kwargs)\u001b[0m\n\u001b[1;32m     66\u001b[0m     \u001b[38;5;28;01mreturn\u001b[39;00m codegen\u001b[38;5;241m.\u001b[39mAlgorithmicCodegen(\n\u001b[1;32m     67\u001b[0m         use_math_symbols\u001b[38;5;241m=\u001b[39mmerged_config\u001b[38;5;241m.\u001b[39muse_math_symbols,\n\u001b[1;32m     68\u001b[0m         use_set_symbols\u001b[38;5;241m=\u001b[39mmerged_config\u001b[38;5;241m.\u001b[39muse_set_symbols,\n\u001b[1;32m     69\u001b[0m     )\u001b[38;5;241m.\u001b[39mvisit(tree)\n\u001b[1;32m     70\u001b[0m \u001b[38;5;28;01melif\u001b[39;00m style \u001b[38;5;241m==\u001b[39m Style\u001b[38;5;241m.\u001b[39mFUNCTION:\n\u001b[1;32m     71\u001b[0m     \u001b[38;5;28;01mreturn\u001b[39;00m \u001b[43mcodegen\u001b[49m\u001b[38;5;241;43m.\u001b[39;49m\u001b[43mFunctionCodegen\u001b[49m\u001b[43m(\u001b[49m\n\u001b[1;32m     72\u001b[0m \u001b[43m        \u001b[49m\u001b[43muse_math_symbols\u001b[49m\u001b[38;5;241;43m=\u001b[39;49m\u001b[43mmerged_config\u001b[49m\u001b[38;5;241;43m.\u001b[39;49m\u001b[43muse_math_symbols\u001b[49m\u001b[43m,\u001b[49m\n\u001b[1;32m     73\u001b[0m \u001b[43m        \u001b[49m\u001b[43muse_signature\u001b[49m\u001b[38;5;241;43m=\u001b[39;49m\u001b[43mmerged_config\u001b[49m\u001b[38;5;241;43m.\u001b[39;49m\u001b[43muse_signature\u001b[49m\u001b[43m,\u001b[49m\n\u001b[1;32m     74\u001b[0m \u001b[43m        \u001b[49m\u001b[43muse_set_symbols\u001b[49m\u001b[38;5;241;43m=\u001b[39;49m\u001b[43mmerged_config\u001b[49m\u001b[38;5;241;43m.\u001b[39;49m\u001b[43muse_set_symbols\u001b[49m\u001b[43m,\u001b[49m\n\u001b[0;32m---> 75\u001b[0m \u001b[43m    \u001b[49m\u001b[43m)\u001b[49m\u001b[38;5;241;43m.\u001b[39;49m\u001b[43mvisit\u001b[49m\u001b[43m(\u001b[49m\u001b[43mtree\u001b[49m\u001b[43m)\u001b[49m\n\u001b[1;32m     76\u001b[0m \u001b[38;5;28;01melif\u001b[39;00m style \u001b[38;5;241m==\u001b[39m Style\u001b[38;5;241m.\u001b[39mIPYTHON_ALGORITHMIC:\n\u001b[1;32m     77\u001b[0m     \u001b[38;5;28;01mreturn\u001b[39;00m codegen\u001b[38;5;241m.\u001b[39mIPythonAlgorithmicCodegen(\n\u001b[1;32m     78\u001b[0m         use_math_symbols\u001b[38;5;241m=\u001b[39mmerged_config\u001b[38;5;241m.\u001b[39muse_math_symbols,\n\u001b[1;32m     79\u001b[0m         use_set_symbols\u001b[38;5;241m=\u001b[39mmerged_config\u001b[38;5;241m.\u001b[39muse_set_symbols,\n\u001b[1;32m     80\u001b[0m     )\u001b[38;5;241m.\u001b[39mvisit(tree)\n",
      "File \u001b[0;32m/usr/lib/python3.11/ast.py:418\u001b[0m, in \u001b[0;36mNodeVisitor.visit\u001b[0;34m(self, node)\u001b[0m\n\u001b[1;32m    416\u001b[0m method \u001b[38;5;241m=\u001b[39m \u001b[38;5;124m'\u001b[39m\u001b[38;5;124mvisit_\u001b[39m\u001b[38;5;124m'\u001b[39m \u001b[38;5;241m+\u001b[39m node\u001b[38;5;241m.\u001b[39m\u001b[38;5;18m__class__\u001b[39m\u001b[38;5;241m.\u001b[39m\u001b[38;5;18m__name__\u001b[39m\n\u001b[1;32m    417\u001b[0m visitor \u001b[38;5;241m=\u001b[39m \u001b[38;5;28mgetattr\u001b[39m(\u001b[38;5;28mself\u001b[39m, method, \u001b[38;5;28mself\u001b[39m\u001b[38;5;241m.\u001b[39mgeneric_visit)\n\u001b[0;32m--> 418\u001b[0m \u001b[38;5;28;01mreturn\u001b[39;00m \u001b[43mvisitor\u001b[49m\u001b[43m(\u001b[49m\u001b[43mnode\u001b[49m\u001b[43m)\u001b[49m\n",
      "File \u001b[0;32m~/Desktop/PairInteraction/numerov/.venv/lib/python3.11/site-packages/latexify/codegen/function_codegen.py:53\u001b[0m, in \u001b[0;36mFunctionCodegen.visit_Module\u001b[0;34m(self, node)\u001b[0m\n\u001b[1;32m     51\u001b[0m \u001b[38;5;28;01mdef\u001b[39;00m\u001b[38;5;250m \u001b[39m\u001b[38;5;21mvisit_Module\u001b[39m(\u001b[38;5;28mself\u001b[39m, node: ast\u001b[38;5;241m.\u001b[39mModule) \u001b[38;5;241m-\u001b[39m\u001b[38;5;241m>\u001b[39m \u001b[38;5;28mstr\u001b[39m:\n\u001b[1;32m     52\u001b[0m \u001b[38;5;250m    \u001b[39m\u001b[38;5;124;03m\"\"\"Visit a Module node.\"\"\"\u001b[39;00m\n\u001b[0;32m---> 53\u001b[0m     \u001b[38;5;28;01mreturn\u001b[39;00m \u001b[38;5;28;43mself\u001b[39;49m\u001b[38;5;241;43m.\u001b[39;49m\u001b[43mvisit\u001b[49m\u001b[43m(\u001b[49m\u001b[43mnode\u001b[49m\u001b[38;5;241;43m.\u001b[39;49m\u001b[43mbody\u001b[49m\u001b[43m[\u001b[49m\u001b[38;5;241;43m0\u001b[39;49m\u001b[43m]\u001b[49m\u001b[43m)\u001b[49m\n",
      "File \u001b[0;32m/usr/lib/python3.11/ast.py:418\u001b[0m, in \u001b[0;36mNodeVisitor.visit\u001b[0;34m(self, node)\u001b[0m\n\u001b[1;32m    416\u001b[0m method \u001b[38;5;241m=\u001b[39m \u001b[38;5;124m'\u001b[39m\u001b[38;5;124mvisit_\u001b[39m\u001b[38;5;124m'\u001b[39m \u001b[38;5;241m+\u001b[39m node\u001b[38;5;241m.\u001b[39m\u001b[38;5;18m__class__\u001b[39m\u001b[38;5;241m.\u001b[39m\u001b[38;5;18m__name__\u001b[39m\n\u001b[1;32m    417\u001b[0m visitor \u001b[38;5;241m=\u001b[39m \u001b[38;5;28mgetattr\u001b[39m(\u001b[38;5;28mself\u001b[39m, method, \u001b[38;5;28mself\u001b[39m\u001b[38;5;241m.\u001b[39mgeneric_visit)\n\u001b[0;32m--> 418\u001b[0m \u001b[38;5;28;01mreturn\u001b[39;00m \u001b[43mvisitor\u001b[49m\u001b[43m(\u001b[49m\u001b[43mnode\u001b[49m\u001b[43m)\u001b[49m\n",
      "File \u001b[0;32m~/Desktop/PairInteraction/numerov/.venv/lib/python3.11/site-packages/latexify/codegen/function_codegen.py:73\u001b[0m, in \u001b[0;36mFunctionCodegen.visit_FunctionDef\u001b[0;34m(self, node)\u001b[0m\n\u001b[1;32m     70\u001b[0m         \u001b[38;5;28;01mcontinue\u001b[39;00m\n\u001b[1;32m     72\u001b[0m     \u001b[38;5;28;01mif\u001b[39;00m \u001b[38;5;129;01mnot\u001b[39;00m \u001b[38;5;28misinstance\u001b[39m(child, ast\u001b[38;5;241m.\u001b[39mAssign):\n\u001b[0;32m---> 73\u001b[0m         \u001b[38;5;28;01mraise\u001b[39;00m exceptions\u001b[38;5;241m.\u001b[39mLatexifyNotSupportedError(\n\u001b[1;32m     74\u001b[0m             \u001b[38;5;124m\"\u001b[39m\u001b[38;5;124mCodegen supports only Assign nodes in multiline functions, \u001b[39m\u001b[38;5;124m\"\u001b[39m\n\u001b[1;32m     75\u001b[0m             \u001b[38;5;124mf\u001b[39m\u001b[38;5;124m\"\u001b[39m\u001b[38;5;124mbut got: \u001b[39m\u001b[38;5;132;01m{\u001b[39;00m\u001b[38;5;28mtype\u001b[39m(child)\u001b[38;5;241m.\u001b[39m\u001b[38;5;18m__name__\u001b[39m\u001b[38;5;132;01m}\u001b[39;00m\u001b[38;5;124m\"\u001b[39m\n\u001b[1;32m     76\u001b[0m         )\n\u001b[1;32m     77\u001b[0m     body_strs\u001b[38;5;241m.\u001b[39mappend(\u001b[38;5;28mself\u001b[39m\u001b[38;5;241m.\u001b[39mvisit(child))\n\u001b[1;32m     79\u001b[0m return_stmt \u001b[38;5;241m=\u001b[39m node\u001b[38;5;241m.\u001b[39mbody[\u001b[38;5;241m-\u001b[39m\u001b[38;5;241m1\u001b[39m]\n",
      "\u001b[0;31mLatexifyNotSupportedError\u001b[0m: Codegen supports only Assign nodes in multiline functions, but got: If"
     ]
    }
   ],
   "source": [
    "# Display the LaTeX expressions\n",
    "from IPython.display import Math, display\n",
    "\n",
    "latexify.get_latex(calc_angular_matrix_element)\n",
    "print(\"Angular Matrix Element:\")\n",
    "display(Math(latexify.get_latex(calc_angular_matrix_element)))\n",
    "\n",
    "latexify.get_latex(calc_reduced_j_matrix_element)\n",
    "print(\"\\nReduced J Matrix Element:\")\n",
    "display(Math(latexify.get_latex(calc_reduced_j_matrix_element)))\n",
    "\n",
    "latexify.get_latex(calc_reduced_momentum_matrix_element)\n",
    "print(\"\\nReduced Momentum Matrix Element:\")\n",
    "display(Math(latexify.get_latex(calc_reduced_momentum_matrix_element)))\n",
    "\n",
    "latexify.get_latex(calc_reduced_multipole_matrix_element)\n",
    "print(\"\\nReduced Multipole Matrix Element:\")\n",
    "display(Math(latexify.get_latex(calc_reduced_multipole_matrix_element)))"
   ]
  }
 ],
 "metadata": {
  "kernelspec": {
   "display_name": ".venv",
   "language": "python",
   "name": "python3"
  },
  "language_info": {
   "codemirror_mode": {
    "name": "ipython",
    "version": 3
   },
   "file_extension": ".py",
   "mimetype": "text/x-python",
   "name": "python",
   "nbconvert_exporter": "python",
   "pygments_lexer": "ipython3",
   "version": "3.11.2"
  }
 },
 "nbformat": 4,
 "nbformat_minor": 2
}
