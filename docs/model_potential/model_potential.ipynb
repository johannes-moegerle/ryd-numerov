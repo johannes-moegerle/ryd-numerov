{
 "cells": [
  {
   "cell_type": "markdown",
   "metadata": {},
   "source": [
    "# Rydberg Model - Rydberg energy and Model potential"
   ]
  },
  {
   "cell_type": "markdown",
   "metadata": {},
   "source": [
    "In this notebook we explain the underlying Rydberg model, which is used to calculate the Rydberg energies and wavefunctions."
   ]
  },
  {
   "cell_type": "markdown",
   "metadata": {},
   "source": [
    "## Latexify\n",
    "To do so, we use latexify to get the relevant equations directly from the implemented code (and thus can use this notebook as a reference and to check the implementation).\n",
    "Therefore, we first need to import and define a few things:"
   ]
  },
  {
   "cell_type": "code",
   "execution_count": 1,
   "metadata": {},
   "outputs": [],
   "source": [
    "from typing import Callable\n",
    "\n",
    "import latexify\n",
    "from IPython.display import Math, display\n",
    "\n",
    "from numerov.model import ModelPotential\n",
    "\n",
    "identifiers = {\n",
    "    \"calc_V_c\": \"V_c\",\n",
    "}\n",
    "kwargs = {\n",
    "    \"identifiers\": identifiers,\n",
    "    \"use_math_symbols\": True,\n",
    "    \"use_set_symbols\": False,\n",
    "}\n",
    "\n",
    "\n",
    "def show_latex(func: Callable, reduce_assignments: bool = False, use_signature: bool = True) -> None:\n",
    "    latex = latexify.get_latex(func, reduce_assignments=reduce_assignments, use_signature=use_signature, **kwargs)\n",
    "    display(Math(latex))"
   ]
  },
  {
   "cell_type": "markdown",
   "metadata": {},
   "source": [
    "## Rydberg energy"
   ]
  },
  {
   "cell_type": "code",
   "execution_count": null,
   "metadata": {},
   "outputs": [],
   "source": []
  },
  {
   "cell_type": "markdown",
   "metadata": {},
   "source": [
    "## Model potential\n",
    "The total model potential is given by"
   ]
  },
  {
   "cell_type": "code",
   "execution_count": 2,
   "metadata": {},
   "outputs": [
    {
     "data": {
      "text/latex": [
       "$\\displaystyle \\begin{array}{l} \\mathrm{V\\_tot} = \\mathrm{self}.\\mathrm{calc\\_V\\_c} \\mathopen{}\\left( x \\mathclose{}\\right) + \\mathrm{self}.\\mathrm{calc\\_V\\_p} \\mathopen{}\\left( x \\mathclose{}\\right) + \\mathrm{self}.\\mathrm{calc\\_V\\_l} \\mathopen{}\\left( x \\mathclose{}\\right) \\\\ \\mathrm{calc\\_V\\_phys}(\\mathrm{self}, x) = \\mathrm{V\\_tot} \\end{array}$"
      ],
      "text/plain": [
       "<IPython.core.display.Math object>"
      ]
     },
     "metadata": {},
     "output_type": "display_data"
    }
   ],
   "source": [
    "show_latex(ModelPotential.calc_V_phys)"
   ]
  },
  {
   "cell_type": "code",
   "execution_count": 3,
   "metadata": {},
   "outputs": [
    {
     "data": {
      "text/latex": [
       "$\\displaystyle \\begin{array}{l} \\mathopen{}\\left( Z, \\mathrm{a1}, \\mathrm{a2}, \\mathrm{a3}, \\mathrm{a4} \\mathclose{}\\right) = \\mathopen{}\\left( \\mathrm{self}.\\mathrm{model\\_params}.Z, \\mathrm{self}.\\mathrm{model\\_params}.\\mathrm{a1}, \\mathrm{self}.\\mathrm{model\\_params}.\\mathrm{a2}, \\mathrm{self}.\\mathrm{model\\_params}.\\mathrm{a3}, \\mathrm{self}.\\mathrm{model\\_params}.\\mathrm{a4} \\mathclose{}\\right) \\\\ \\mathrm{Z\\_nl} = 1 + \\mathopen{}\\left( Z - 1 \\mathclose{}\\right) \\exp \\mathopen{}\\left( -\\mathrm{a1} x \\mathclose{}\\right) - x \\cdot \\mathopen{}\\left( \\mathrm{a3} + \\mathrm{a4} \\cdot x \\mathclose{}\\right) \\exp \\mathopen{}\\left( -\\mathrm{a2} x \\mathclose{}\\right) \\\\ \\mathrm{V\\_c}(\\mathrm{self}, x) = \\frac{-\\mathrm{Z\\_nl}}{x} \\end{array}$"
      ],
      "text/plain": [
       "<IPython.core.display.Math object>"
      ]
     },
     "metadata": {},
     "output_type": "display_data"
    }
   ],
   "source": [
    "show_latex(ModelPotential.calc_V_c)"
   ]
  },
  {
   "cell_type": "code",
   "execution_count": 4,
   "metadata": {},
   "outputs": [
    {
     "data": {
      "text/latex": [
       "$\\displaystyle \\begin{array}{l} \\alpha = \\mathrm{ureg}.\\mathrm{Quantity} \\mathopen{}\\left( 1, \\textrm{\"fine_structure_constant\"} \\mathclose{}\\right).\\mathrm{to\\_base\\_units} \\mathopen{}\\left( \\mathclose{}\\right).\\mathrm{magnitude} \\\\ \\mathrm{V\\_so} = \\frac{\\alpha^{2}}{4 x^{3}} \\cdot \\mathopen{}\\left( \\mathrm{self}.j \\cdot \\mathopen{}\\left( \\mathrm{self}.j + 1 \\mathclose{}\\right) - \\mathrm{self}.l \\cdot \\mathopen{}\\left( \\mathrm{self}.l + 1 \\mathclose{}\\right) - \\mathrm{self}.s \\cdot \\mathopen{}\\left( \\mathrm{self}.s + 1 \\mathclose{}\\right) \\mathclose{}\\right) \\\\ \\mathrm{calc\\_V\\_so}(\\mathrm{self}, x) = \\mathrm{V\\_so} \\end{array}$"
      ],
      "text/plain": [
       "<IPython.core.display.Math object>"
      ]
     },
     "metadata": {},
     "output_type": "display_data"
    }
   ],
   "source": [
    "show_latex(ModelPotential.calc_V_so)"
   ]
  }
 ],
 "metadata": {
  "kernelspec": {
   "display_name": ".venv",
   "language": "python",
   "name": "python3"
  },
  "language_info": {
   "codemirror_mode": {
    "name": "ipython",
    "version": 3
   },
   "file_extension": ".py",
   "mimetype": "text/x-python",
   "name": "python",
   "nbconvert_exporter": "python",
   "pygments_lexer": "ipython3",
   "version": "3.11.2"
  }
 },
 "nbformat": 4,
 "nbformat_minor": 2
}
